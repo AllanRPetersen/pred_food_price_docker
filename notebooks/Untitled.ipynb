{
 "cells": [
  {
   "cell_type": "code",
   "execution_count": 1,
   "id": "228b8fff",
   "metadata": {},
   "outputs": [],
   "source": [
    "from fastapi import FastAPI\n",
    "import joblib\n",
    "from tensorflow.keras import models\n",
    "import requests\n",
    "from pandas.core.frame import DataFrame\n",
    "import numpy as np\n",
    "import pandas as pd\n",
    "from fastapi.middleware.cors import CORSMiddleware"
   ]
  },
  {
   "cell_type": "code",
   "execution_count": 2,
   "id": "a80afd84",
   "metadata": {},
   "outputs": [
    {
     "name": "stderr",
     "output_type": "stream",
     "text": [
      "2021-12-15 13:14:33.923640: I tensorflow/core/platform/cpu_feature_guard.cc:142] This TensorFlow binary is optimized with oneAPI Deep Neural Network Library (oneDNN) to use the following CPU instructions in performance-critical operations:  AVX2 FMA\n",
      "To enable them in other operations, rebuild TensorFlow with the appropriate compiler flags.\n"
     ]
    }
   ],
   "source": [
    "nn_model = models.load_model('../raw_data/neural_network_v1.h5')\n",
    "preproc = joblib.load('../raw_data/preprocessor_v1.joblib')"
   ]
  },
  {
   "cell_type": "code",
   "execution_count": null,
   "id": "ea76a726",
   "metadata": {},
   "outputs": [],
   "source": [
    "app = FastAPI()\n",
    "\n",
    "app.add_middleware(\n",
    "    CORSMiddleware,\n",
    "    allow_origins=[\"*\"],  # Allows all origins\n",
    "    allow_credentials=True,\n",
    "    allow_methods=[\"*\"],  # Allows all methods\n",
    "    allow_headers=[\"*\"],  # Allows all headers\n",
    ")"
   ]
  },
  {
   "cell_type": "code",
   "execution_count": null,
   "id": "70763350",
   "metadata": {},
   "outputs": [],
   "source": [
    "@app.get(\"/\")\n",
    "def index():\n",
    "    return {\"Buenos Dias\": True}"
   ]
  },
  {
   "cell_type": "code",
   "execution_count": null,
   "id": "5c40b420",
   "metadata": {},
   "outputs": [],
   "source": [
    "/predict/?value=Retail&portion_size=2&protein=2&fat=3&carb=4&sugar=5&sodium=6&calcium=7&kcal=8&category=Baked+Products&index_2019=10"
   ]
  },
  {
   "cell_type": "code",
   "execution_count": null,
   "id": "02c1be8f",
   "metadata": {},
   "outputs": [],
   "source": [
    "@app.get(\"/predict/\")\n",
    "def predict(value, portion_size, protein, fat, carb, sugar, sodium, calcium,\n",
    "            kcal, category, index_2019):\n",
    "\n",
    "    list_of_inputs = {\n",
    "        'pt_name': [value],\n",
    "        'protein': [(float(protein) / float(portion_size)) * 1000],\n",
    "        'fat': [(float(fat) / float(portion_size)) * 1000],\n",
    "        'carb': [(float(carb) / float(portion_size)) * 1000],\n",
    "        'sugar': [(float(sugar) / float(portion_size)) * 1000],\n",
    "        'sodium': [(float(sodium) / float(portion_size)) * 1000],\n",
    "        'calcium': [(float(calcium) / float(portion_size)) * 1000],\n",
    "        'kcal': [(float(kcal) / float(portion_size)) * 1000],\n",
    "        'category': [category],\n",
    "        '2019': [float(index_2019)]\n",
    "    }\n",
    "    inputs = pd.DataFrame.from_dict(list_of_inputs)\n",
    "\n",
    "    scaled_inputs = preproc.transform(inputs)\n",
    "\n",
    "    prediction = nn_model.predict(scaled_inputs)\n",
    "\n",
    "    response = {'Prediction': prediction}\n",
    "\n",
    "    #print(prediction)\n",
    "    #return prediction\n",
    "\n",
    "    #return inputs\n",
    "\n",
    "    #return scaled_inputs.shape\n",
    "\n",
    "    return response\n",
    "\n",
    "    #return prediction\n",
    "\n",
    "    #return {\"Buenos Dias\": True}\n"
   ]
  },
  {
   "cell_type": "code",
   "execution_count": 3,
   "id": "a739c105",
   "metadata": {},
   "outputs": [
    {
     "name": "stderr",
     "output_type": "stream",
     "text": [
      "/Users/plyck/.pyenv/versions/3.8.12/envs/lewagon/lib/python3.8/site-packages/sklearn/compose/_column_transformer.py:427: FutureWarning: Given feature/column names or counts do not match the ones for the data given during fit. This will fail from v0.24.\n",
      "  warnings.warn(\"Given feature/column names or counts do not match \"\n",
      "2021-12-15 13:14:41.411218: I tensorflow/compiler/mlir/mlir_graph_optimization_pass.cc:176] None of the MLIR Optimization Passes are enabled (registered 2)\n"
     ]
    },
    {
     "data": {
      "text/plain": [
       "array([[2.4143812e-15]], dtype=float32)"
      ]
     },
     "execution_count": 3,
     "metadata": {},
     "output_type": "execute_result"
    }
   ],
   "source": [
    "list_of_inputs = {\n",
    "        'pt_name': ['Retail'],\n",
    "        'protein': [(float(2) / float(2)) * 1000],\n",
    "        'fat': [(float(3) / float(2)) * 1000],\n",
    "        'carb': [(float(4) / float(2)) * 1000],\n",
    "        'sugar': [(float(5) / float(2)) * 1000],\n",
    "        'sodium': [(float(6) / float(2)) * 1000],\n",
    "        'calcium': [(float(7) / float(2)) * 1000],\n",
    "        'kcal': [(float(8) / float(2)) * 1000],\n",
    "        'category': ['Baked Products'],\n",
    "        '2019': [float(10)]\n",
    "    }\n",
    "inputs = pd.DataFrame.from_dict(list_of_inputs)\n",
    "\n",
    "scaled_inputs = preproc.transform(inputs)\n",
    "\n",
    "prediction = nn_model.predict(scaled_inputs)\n",
    "\n",
    "response = {'Prediction': prediction[0][0]}\n",
    "    \n",
    "#response\n",
    "\n",
    "prediction"
   ]
  },
  {
   "cell_type": "code",
   "execution_count": 4,
   "id": "ceb11c91",
   "metadata": {},
   "outputs": [
    {
     "data": {
      "text/plain": [
       "numpy.float32"
      ]
     },
     "execution_count": 4,
     "metadata": {},
     "output_type": "execute_result"
    }
   ],
   "source": [
    "type(prediction[0][0])"
   ]
  },
  {
   "cell_type": "code",
   "execution_count": null,
   "id": "b6e32ec3",
   "metadata": {},
   "outputs": [],
   "source": [
    "#prediction_1 = prediction[0][0].tolist()"
   ]
  },
  {
   "cell_type": "code",
   "execution_count": null,
   "id": "2a37c302",
   "metadata": {},
   "outputs": [],
   "source": [
    "#type(prediction_1)"
   ]
  },
  {
   "cell_type": "code",
   "execution_count": 5,
   "id": "48b792f3",
   "metadata": {},
   "outputs": [
    {
     "data": {
      "text/plain": [
       "{'Prediction': 2.4143812e-15}"
      ]
     },
     "execution_count": 5,
     "metadata": {},
     "output_type": "execute_result"
    }
   ],
   "source": [
    "response"
   ]
  },
  {
   "cell_type": "code",
   "execution_count": null,
   "id": "4c6568d1",
   "metadata": {},
   "outputs": [],
   "source": [
    "type(response)"
   ]
  },
  {
   "cell_type": "code",
   "execution_count": null,
   "id": "6a3d570e",
   "metadata": {},
   "outputs": [],
   "source": []
  },
  {
   "cell_type": "code",
   "execution_count": null,
   "id": "9dad7e98",
   "metadata": {},
   "outputs": [],
   "source": []
  }
 ],
 "metadata": {
  "kernelspec": {
   "display_name": "Python 3 (ipykernel)",
   "language": "python",
   "name": "python3"
  },
  "language_info": {
   "codemirror_mode": {
    "name": "ipython",
    "version": 3
   },
   "file_extension": ".py",
   "mimetype": "text/x-python",
   "name": "python",
   "nbconvert_exporter": "python",
   "pygments_lexer": "ipython3",
   "version": "3.8.12"
  },
  "toc": {
   "base_numbering": 1,
   "nav_menu": {},
   "number_sections": true,
   "sideBar": true,
   "skip_h1_title": false,
   "title_cell": "Table of Contents",
   "title_sidebar": "Contents",
   "toc_cell": false,
   "toc_position": {},
   "toc_section_display": true,
   "toc_window_display": false
  }
 },
 "nbformat": 4,
 "nbformat_minor": 5
}
